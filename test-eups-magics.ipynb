{
 "cells": [
  {
   "cell_type": "markdown",
   "metadata": {},
   "source": [
    "# IPython EUPS magics\n",
    "\n",
    "### What\n",
    "\n",
    "This IPython extension adds a new `%eups` magic that allows one to call EUPS from IPython, and (importantly) setup products into the current IPython notebook's environment.\n",
    "\n",
    "This comes in very handy when we want the Python notebook to fully capture the products (possibly down to the product version) that were used to execute it.\n",
    "\n",
    "It's also handy when in the middle of some analysis you realize you've forgotten to setup a product you need.\n",
    "\n",
    "### Installing\n",
    "\n",
    "Drop [`eups-magic.py`](https://github.com/mjuric/incubator/blob/master/eups-ipython-magic/eups-magic.py) in your `~/.ipython/profile_default/startup` directory. If you don't have that directory, run `ipython profile create` to create it.\n",
    "\n",
    "### Known issues\n",
    "* Restarting a notebook kernel is known to cause problems -- the cells may not execute after a restart (they either appear to be running w/o returning, or return with no output)"
   ]
  },
  {
   "cell_type": "markdown",
   "metadata": {},
   "source": [
    "## The basics"
   ]
  },
  {
   "cell_type": "markdown",
   "metadata": {},
   "source": [
    "The `%eups` magic lets you run any EUPS subcommand. For example, let's see which products are available:"
   ]
  },
  {
   "cell_type": "code",
   "execution_count": 1,
   "metadata": {
    "collapsed": false
   },
   "outputs": [
    {
     "name": "stdout",
     "output_type": "stream",
     "text": [
      "oorb                  lsst-g650e0a6f6c\n"
     ]
    }
   ],
   "source": [
    "%eups list"
   ]
  },
  {
   "cell_type": "markdown",
   "metadata": {},
   "source": [
    "Let's try to import a module that hasn't been set up."
   ]
  },
  {
   "cell_type": "code",
   "execution_count": 2,
   "metadata": {
    "collapsed": false
   },
   "outputs": [
    {
     "ename": "ImportError",
     "evalue": "No module named pyoorb",
     "output_type": "error",
     "traceback": [
      "\u001b[0;31m---------------------------------------------------------------------------\u001b[0m",
      "\u001b[0;31mImportError\u001b[0m                               Traceback (most recent call last)",
      "\u001b[0;32m<ipython-input-2-10e6ae77b384>\u001b[0m in \u001b[0;36m<module>\u001b[0;34m()\u001b[0m\n\u001b[0;32m----> 1\u001b[0;31m \u001b[0;32mimport\u001b[0m \u001b[0mpyoorb\u001b[0m\u001b[0;34m\u001b[0m\u001b[0m\n\u001b[0m",
      "\u001b[0;31mImportError\u001b[0m: No module named pyoorb"
     ]
    }
   ],
   "source": [
    "import pyoorb"
   ]
  },
  {
   "cell_type": "markdown",
   "metadata": {},
   "source": [
    "OK, so we'll set it up first:"
   ]
  },
  {
   "cell_type": "code",
   "execution_count": 3,
   "metadata": {
    "collapsed": false
   },
   "outputs": [],
   "source": [
    "%eups setup oorb lsst-g650e0a6f6c"
   ]
  },
  {
   "cell_type": "markdown",
   "metadata": {},
   "source": [
    "Let's check if this worked:"
   ]
  },
  {
   "cell_type": "code",
   "execution_count": 4,
   "metadata": {
    "collapsed": false
   },
   "outputs": [
    {
     "name": "stdout",
     "output_type": "stream",
     "text": [
      "oorb                  lsst-g650e0a6f6c \tsetup\n"
     ]
    }
   ],
   "source": [
    "%eups list -s"
   ]
  },
  {
   "cell_type": "markdown",
   "metadata": {},
   "source": [
    "... and now we can use its modules directly from this notebook:"
   ]
  },
  {
   "cell_type": "code",
   "execution_count": 5,
   "metadata": {
    "collapsed": false
   },
   "outputs": [],
   "source": [
    "import pyoorb"
   ]
  },
  {
   "cell_type": "markdown",
   "metadata": {},
   "source": [
    "We can also unsetup a module.\n",
    "\n",
    "Note however that because of how Python handles modules, this will not unload an already loaded module. Furthermore, while pure-Python modules can be reloaded with reload(), that is not possible for C extensions (see http://bugs.python.org/issue1144263).\n",
    "\n",
    "Bottom line: this will not enable you to switch out a version of a module at runtime, unless the module is pure Python and you remember to call reload."
   ]
  },
  {
   "cell_type": "code",
   "execution_count": 6,
   "metadata": {
    "collapsed": false
   },
   "outputs": [],
   "source": [
    "%eups unsetup oorb lsst-g650e0a6f6c"
   ]
  },
  {
   "cell_type": "code",
   "execution_count": 7,
   "metadata": {
    "collapsed": false
   },
   "outputs": [
    {
     "name": "stdout",
     "output_type": "stream",
     "text": [
      "eups list: No products found\n"
     ]
    }
   ],
   "source": [
    "%eups list -s"
   ]
  },
  {
   "cell_type": "markdown",
   "metadata": {},
   "source": [
    "## Miscellaneous"
   ]
  },
  {
   "cell_type": "markdown",
   "metadata": {},
   "source": [
    "Errors get appropriately highlighted:"
   ]
  },
  {
   "cell_type": "code",
   "execution_count": 8,
   "metadata": {
    "collapsed": false
   },
   "outputs": [
    {
     "name": "stderr",
     "output_type": "stream",
     "text": [
      "ERROR: Command 'eups foobar ' returned non-zero exit status 10\n",
      "eups foobar: Unrecognized command: foobar\n",
      "\n"
     ]
    }
   ],
   "source": [
    "%eups foobar"
   ]
  },
  {
   "cell_type": "markdown",
   "metadata": {},
   "source": [
    "We can setting up a list of products in a loop, using IPython variable expansion:"
   ]
  },
  {
   "cell_type": "code",
   "execution_count": 9,
   "metadata": {
    "collapsed": false
   },
   "outputs": [
    {
     "name": "stdout",
     "output_type": "stream",
     "text": [
      "oorb                  lsst-g650e0a6f6c \tsetup\n"
     ]
    }
   ],
   "source": [
    "products = [('oorb', 'lsst-g650e0a6f6c')]\n",
    "for product, version in products:\n",
    "    %eups setup $product $version\n",
    "%eups list -s"
   ]
  },
  {
   "cell_type": "markdown",
   "metadata": {},
   "source": [
    "All EUPS subcommands work:"
   ]
  },
  {
   "cell_type": "code",
   "execution_count": 10,
   "metadata": {
    "collapsed": false
   },
   "outputs": [
    {
     "name": "stdout",
     "output_type": "stream",
     "text": [
      "  anaconda             generic    2.1.0-lsst1\n",
      "  anaconda             generic    2.1.0-4-g35ca374\n",
      "  ann                  generic    master-g241439a636\n",
      "  eupsforge            generic    master-g9ae1b6a1f0\n",
      "  eupsforge_distrib    generic    master-g0740fbfb19\n",
      "  eupsforge_distrib    generic    master-g0740fbfb19+3\n",
      "  eupsforge_distrib    generic    master-g0740fbfb19+4\n",
      "  eupsforge_distrib    generic    master-g4bfbf8a310\n",
      "  eupsforge_distrib    generic    master-g5126290247+1\n",
      "  eupsforge_distrib    generic    master-g5126290247+3\n",
      "  eupsforge_distrib    generic    master-g704909cfe0\n",
      "  eupsforge_distrib    generic    master-gb7d5b0be39\n",
      "  firefly              generic    tickets.DM-2731-eups-for-firefly-g9c17782531\n",
      "  firefly              generic    tickets.DM-2731-eups-for-firefly-geffca691b1\n",
      "  git                  generic    1.8.5.2\n",
      "  git                  generic    2.4.0\n",
      "  git                  generic    2.4.0-1-g2a468e1\n",
      "  gradle               generic    master-g72e5c9f5d6\n",
      "  jdk                  generic    8u40-b26\n",
      "  lsd                  generic    master-gc732036f69\n",
      "  node                 generic    master-g585d2d3511\n",
      "  oorb                 generic    master-g4860a33a8d\n",
      "  oorb                 generic    master-g9251370ab2\n",
      "  polygon              generic    master-g20529d1b51\n",
      "  scikits_ann          generic    master-gdafff029ec\n",
      "  swig                 generic    3.0.2.lsst1\n",
      "  tomcat               generic    master-ge83256a205\n",
      "  vitables             generic    master-gf44a20f6f0\n"
     ]
    }
   ],
   "source": [
    "%eups distrib list -s http://lsst-web.ncsa.illinois.edu/~mjuric/eupsforge/"
   ]
  }
 ],
 "metadata": {
  "kernelspec": {
   "display_name": "Python 2",
   "language": "python",
   "name": "python2"
  },
  "language_info": {
   "codemirror_mode": {
    "name": "ipython",
    "version": 2
   },
   "file_extension": ".py",
   "mimetype": "text/x-python",
   "name": "python",
   "nbconvert_exporter": "python",
   "pygments_lexer": "ipython2",
   "version": "2.7.9"
  }
 },
 "nbformat": 4,
 "nbformat_minor": 0
}
