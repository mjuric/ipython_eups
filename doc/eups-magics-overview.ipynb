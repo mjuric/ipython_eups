{
 "cells": [
  {
   "cell_type": "markdown",
   "metadata": {},
   "source": [
    "# IPython EUPS magics\n",
    "\n",
    "### What\n",
    "\n",
    "This IPython extension adds a new `%eups` magic that allows one to call EUPS from IPython, setup products into the current IPython notebook's environment, as well as setup EUPS itself.\n",
    "\n",
    "This comes in very handy when we want the Python notebook to fully capture the products (possibly down to the product version) that were used to execute it.\n",
    "\n",
    "It's also handy when in the middle of some analysis you realize you've forgotten to setup a product you need."
   ]
  },
  {
   "cell_type": "markdown",
   "metadata": {},
   "source": [
    "### tl;dr -- show me the code"
   ]
  },
  {
   "cell_type": "code",
   "execution_count": 1,
   "metadata": {
    "collapsed": false
   },
   "outputs": [
    {
     "data": {
      "text/markdown": [
       "``%eups`` magics loaded. Documentation and source at http://github.com/mjuric/ipython_eups."
      ],
      "text/plain": [
       "[load_ext]: %eups magics loaded. Docs+source at http://github.com/mjuric/ipython_eups."
      ]
     },
     "metadata": {},
     "output_type": "display_data"
    },
    {
     "data": {
      "text/markdown": [
       "**``%eups init:``** loading EUPS from `/Users/mjuric/.eups/default`.  \n",
       "**``%eups init:``** using `EUPS_PATH=/Users/mjuric/projects/eups/stack`."
      ],
      "text/plain": [
       "**``%eups init:``** loading EUPS from `/Users/mjuric/.eups/default`.  \n",
       "**``%eups init:``** using `EUPS_PATH=/Users/mjuric/projects/eups/stack`."
      ]
     },
     "metadata": {},
     "output_type": "display_data"
    }
   ],
   "source": [
    "%load_ext eups_magic"
   ]
  },
  {
   "cell_type": "code",
   "execution_count": 2,
   "metadata": {
    "collapsed": false
   },
   "outputs": [
    {
     "name": "stdout",
     "output_type": "stream",
     "text": [
      "   lsst-g650e0a6f6c \r\n"
     ]
    }
   ],
   "source": [
    "%eups list oorb"
   ]
  },
  {
   "cell_type": "code",
   "execution_count": 3,
   "metadata": {
    "collapsed": false
   },
   "outputs": [
    {
     "data": {
      "text/markdown": [
       "**``%eups setup:``** `oorb`, version `lsst-g650e0a6f6c`"
      ],
      "text/plain": [
       "**``%eups setup:``** `oorb`, version `lsst-g650e0a6f6c`"
      ]
     },
     "metadata": {},
     "output_type": "display_data"
    },
    {
     "data": {
      "text/plain": [
       "'/Users/mjuric/projects/eups/stack/DarwinX86/oorb/lsst-g650e0a6f6c/python/pyoorb.so'"
      ]
     },
     "execution_count": 3,
     "metadata": {},
     "output_type": "execute_result"
    }
   ],
   "source": [
    "%eups setup oorb lsst-g650e0a6f6c\n",
    "\n",
    "import pyoorb\n",
    "pyoorb.__file__"
   ]
  },
  {
   "cell_type": "markdown",
   "metadata": {},
   "source": [
    "## Installing and running\n",
    "\n",
    "### Option 1: From a packed script (preferred)\n",
    "\n",
    "This is by far the quickest way to get started. Just download the `ipython` wrapper script and place it somewhere on your path (before the real `ipython` !):\n",
    "\n",
    "    wget http://eupsforge.net/ipython\n",
    "    chmod +x ipython\n",
    "    cp ipython ...somewhere/on/your/path...\n",
    "\n",
    "This will ensure IPython is always started with EUPS magics support.\n",
    "\n",
    "### Option 2: From source (for developers)\n",
    "\n",
    "The sources are on github at http://github.com/mjuric/ipython_eups. Running from source is pretty straightforward as well:\n",
    "\n",
    "    git clone http://github.com/mjuric/ipython_eups\n",
    "    setup -r ipython_eups\n",
    "\n",
    "This is a pure python extenson, so no compilation is necessary."
   ]
  },
  {
   "cell_type": "markdown",
   "metadata": {},
   "source": [
    "## Initializing EUPS from within IPython"
   ]
  },
  {
   "cell_type": "markdown",
   "metadata": {},
   "source": [
    "To activate the `%eups` magic, load the `eups_magic` extension. It's best to begin your notebooks with this."
   ]
  },
  {
   "cell_type": "code",
   "execution_count": 1,
   "metadata": {
    "collapsed": false
   },
   "outputs": [
    {
     "data": {
      "text/markdown": [
       "``%eups`` magics loaded. Documentation and source at http://github.com/mjuric/ipython_eups."
      ],
      "text/plain": [
       "%eups magics loaded. Documentation and source at http://github.com/mjuric/ipython_eups."
      ]
     },
     "metadata": {},
     "output_type": "display_data"
    },
    {
     "name": "stderr",
     "output_type": "stream",
     "text": [
      "WARNING: EUPS not initialized, and no default EUPS has been symlinked as /Users/mjuric/.eups/default. Make sure to initialize it with `%eups init <path_to_eups>'\n"
     ]
    }
   ],
   "source": [
    "%load_ext eups_magic"
   ]
  },
  {
   "cell_type": "markdown",
   "metadata": {},
   "source": [
    "The message above tells us we've forgotten to setup EUPS itself (i.e., by sourcing `setups.sh` script). That's fine; we can do it from the notebook itself:"
   ]
  },
  {
   "cell_type": "code",
   "execution_count": 2,
   "metadata": {
    "collapsed": false
   },
   "outputs": [
    {
     "data": {
      "text/markdown": [
       "**``%eups init:``** loading EUPS from `/Users/mjuric/projects/eups`.  \n",
       "**``%eups init:``** using `EUPS_PATH=/Users/mjuric/projects/eups/stack`."
      ],
      "text/plain": [
       "%eups init: loading EUPS from /Users/mjuric/projects/eups.  \n",
       "%eups init: using EUPS_PATH=/Users/mjuric/projects/eups/stack."
      ]
     },
     "metadata": {},
     "output_type": "display_data"
    },
    {
     "data": {
      "text/markdown": [
       "**``%eups init:``** To make this default, rerun with ``%eups init --set-default /Users/mjuric/projects/eups``"
      ],
      "text/plain": [
       "%eups init: To make this default, rerun with %eups init --set-default /Users/mjuric/projects/eups"
      ]
     },
     "metadata": {},
     "output_type": "display_data"
    }
   ],
   "source": [
    "%eups init /Users/mjuric/projects/eups"
   ]
  },
  {
   "cell_type": "markdown",
   "metadata": {},
   "source": [
    "We can tell `%eups` to remember the path to default EUPS: "
   ]
  },
  {
   "cell_type": "code",
   "execution_count": 3,
   "metadata": {
    "collapsed": false
   },
   "outputs": [
    {
     "data": {
      "text/markdown": [
       "**``%eups init:``** loading EUPS from `/Users/mjuric/projects/eups`.  \n",
       "**``%eups init:``** using `EUPS_PATH=/Users/mjuric/projects/eups/stack`."
      ],
      "text/plain": [
       "%eups init: loading EUPS from /Users/mjuric/projects/eups.  \n",
       "%eups init: using EUPS_PATH=/Users/mjuric/projects/eups/stack."
      ]
     },
     "metadata": {},
     "output_type": "display_data"
    },
    {
     "data": {
      "text/markdown": [
       "**``%eups init:``** symlinking `/Users/mjuric/.eups/default` -> `/Users/mjuric/projects/eups`"
      ],
      "text/plain": [
       "%eups init: symlinking /Users/mjuric/.eups/default -> /Users/mjuric/projects/eups"
      ]
     },
     "metadata": {},
     "output_type": "display_data"
    }
   ],
   "source": [
    "%eups init --set-default /Users/mjuric/projects/eups"
   ]
  },
  {
   "cell_type": "markdown",
   "metadata": {},
   "source": [
    "... and from now on we can run `%eups init` without an argument:"
   ]
  },
  {
   "cell_type": "code",
   "execution_count": 4,
   "metadata": {
    "collapsed": false
   },
   "outputs": [
    {
     "data": {
      "text/markdown": [
       "**``%eups init:``** loading EUPS from `/Users/mjuric/.eups/default`.  \n",
       "**``%eups init:``** using `EUPS_PATH=/Users/mjuric/projects/eups/stack`."
      ],
      "text/plain": [
       "%eups init: loading EUPS from /Users/mjuric/.eups/default.  \n",
       "%eups init: using EUPS_PATH=/Users/mjuric/projects/eups/stack."
      ]
     },
     "metadata": {},
     "output_type": "display_data"
    }
   ],
   "source": [
    "%eups init"
   ]
  },
  {
   "cell_type": "markdown",
   "metadata": {},
   "source": [
    "Furthermore, now that we have the default set up, `%eups init` will automatically run when the extension is loaded so nothing is needed beyond `%load_ext eups_magic`."
   ]
  },
  {
   "cell_type": "markdown",
   "metadata": {},
   "source": [
    "## Basic capabilities: (un)setup-ing EUPS products"
   ]
  },
  {
   "cell_type": "markdown",
   "metadata": {},
   "source": [
    "The `%eups` magic lets you run any EUPS subcommand. For example, let's see which products are available:"
   ]
  },
  {
   "cell_type": "code",
   "execution_count": 5,
   "metadata": {
    "collapsed": false
   },
   "outputs": [
    {
     "name": "stdout",
     "output_type": "stream",
     "text": [
      "   lsst-g650e0a6f6c \r\n"
     ]
    }
   ],
   "source": [
    "%eups list oorb"
   ]
  },
  {
   "cell_type": "markdown",
   "metadata": {},
   "source": [
    "Let's try to import a module from a product that hasn't been `setup`-ed yet:"
   ]
  },
  {
   "cell_type": "code",
   "execution_count": 6,
   "metadata": {
    "collapsed": false
   },
   "outputs": [
    {
     "ename": "ImportError",
     "evalue": "No module named pyoorb",
     "output_type": "error",
     "traceback": [
      "\u001b[0;31m---------------------------------------------------------------------------\u001b[0m",
      "\u001b[0;31mImportError\u001b[0m                               Traceback (most recent call last)",
      "\u001b[0;32m<ipython-input-6-10e6ae77b384>\u001b[0m in \u001b[0;36m<module>\u001b[0;34m()\u001b[0m\n\u001b[0;32m----> 1\u001b[0;31m \u001b[0;32mimport\u001b[0m \u001b[0mpyoorb\u001b[0m\u001b[0;34m\u001b[0m\u001b[0m\n\u001b[0m",
      "\u001b[0;31mImportError\u001b[0m: No module named pyoorb"
     ]
    }
   ],
   "source": [
    "import pyoorb"
   ]
  },
  {
   "cell_type": "markdown",
   "metadata": {},
   "source": [
    "OK, so we'll set it up first:"
   ]
  },
  {
   "cell_type": "code",
   "execution_count": 7,
   "metadata": {
    "collapsed": false
   },
   "outputs": [
    {
     "data": {
      "text/markdown": [
       "**``%eups setup:``** `oorb`, version `lsst-g650e0a6f6c`"
      ],
      "text/plain": [
       "**``%eups setup:``** `oorb`, version `lsst-g650e0a6f6c`"
      ]
     },
     "metadata": {},
     "output_type": "display_data"
    }
   ],
   "source": [
    "%eups setup oorb lsst-g650e0a6f6c"
   ]
  },
  {
   "cell_type": "markdown",
   "metadata": {},
   "source": [
    "Let's check if this worked:"
   ]
  },
  {
   "cell_type": "code",
   "execution_count": 8,
   "metadata": {
    "collapsed": false
   },
   "outputs": [
    {
     "name": "stdout",
     "output_type": "stream",
     "text": [
      "oorb                  lsst-g650e0a6f6c \tsetup\r\n"
     ]
    }
   ],
   "source": [
    "%eups list -s"
   ]
  },
  {
   "cell_type": "markdown",
   "metadata": {},
   "source": [
    "... and now we can use its modules directly from this notebook:"
   ]
  },
  {
   "cell_type": "code",
   "execution_count": 9,
   "metadata": {
    "collapsed": false
   },
   "outputs": [],
   "source": [
    "import pyoorb"
   ]
  },
  {
   "cell_type": "markdown",
   "metadata": {},
   "source": [
    "We can also unsetup a module.\n",
    "\n",
    "***Hint***: *Note however that because of how Python handles modules, this will not unload an already loaded module. Furthermore, while pure-Python modules can be reloaded with `reload()`, that is not possible for C extensions (see http://bugs.python.org/issue1144263).*\n",
    "\n",
    "Bottom line: this will not enable you to switch out a version of a module at runtime, unless the module is pure Python and you remember to call reload."
   ]
  },
  {
   "cell_type": "code",
   "execution_count": 10,
   "metadata": {
    "collapsed": false
   },
   "outputs": [
    {
     "data": {
      "text/markdown": [
       "**``%eups unsetup:``** `oorb`, version `lsst-g650e0a6f6c`"
      ],
      "text/plain": [
       "**``%eups unsetup:``** `oorb`, version `lsst-g650e0a6f6c`"
      ]
     },
     "metadata": {},
     "output_type": "display_data"
    },
    {
     "name": "stdout",
     "output_type": "stream",
     "text": [
      "eups list: No products found\r\n"
     ]
    }
   ],
   "source": [
    "%eups unsetup oorb lsst-g650e0a6f6c\n",
    "%eups list -s"
   ]
  },
  {
   "cell_type": "markdown",
   "metadata": {},
   "source": [
    "## Miscellaneous Features"
   ]
  },
  {
   "cell_type": "markdown",
   "metadata": {},
   "source": [
    "Mistakes are reported:"
   ]
  },
  {
   "cell_type": "code",
   "execution_count": 11,
   "metadata": {
    "collapsed": false
   },
   "outputs": [
    {
     "name": "stdout",
     "output_type": "stream",
     "text": [
      "eups foobar: Unrecognized command: foobar\r\n"
     ]
    }
   ],
   "source": [
    "%eups foobar"
   ]
  },
  {
   "cell_type": "markdown",
   "metadata": {},
   "source": [
    "We can setting up a list of products in a loop, using IPython variable expansion:"
   ]
  },
  {
   "cell_type": "code",
   "execution_count": 12,
   "metadata": {
    "collapsed": false
   },
   "outputs": [
    {
     "data": {
      "text/markdown": [
       "**``%eups setup:``** `oorb`, version `lsst-g650e0a6f6c`"
      ],
      "text/plain": [
       "**``%eups setup:``** `oorb`, version `lsst-g650e0a6f6c`"
      ]
     },
     "metadata": {},
     "output_type": "display_data"
    },
    {
     "name": "stdout",
     "output_type": "stream",
     "text": [
      "oorb                  lsst-g650e0a6f6c \tsetup\r\n"
     ]
    }
   ],
   "source": [
    "products = [('oorb', 'lsst-g650e0a6f6c')]\n",
    "for product, version in products:\n",
    "    %eups setup $product $version\n",
    "%eups list -s"
   ]
  },
  {
   "cell_type": "markdown",
   "metadata": {},
   "source": [
    "All EUPS subcommands work:"
   ]
  },
  {
   "cell_type": "code",
   "execution_count": 13,
   "metadata": {
    "collapsed": false
   },
   "outputs": [
    {
     "name": "stdout",
     "output_type": "stream",
     "text": [
      "  anaconda             generic    2.1.0-lsst1\r\n",
      "  anaconda             generic    2.1.0-4-g35ca374\r\n",
      "  ann                  generic    master-g241439a636\r\n",
      "  eupsforge            generic    master-g9ae1b6a1f0\r\n",
      "  eupsforge_distrib    generic    master-g0740fbfb19\r\n",
      "  eupsforge_distrib    generic    master-g0740fbfb19+3\r\n",
      "  eupsforge_distrib    generic    master-g0740fbfb19+4\r\n",
      "  eupsforge_distrib    generic    master-g4bfbf8a310\r\n",
      "  eupsforge_distrib    generic    master-g5126290247+1\r\n",
      "  eupsforge_distrib    generic    master-g5126290247+3\r\n",
      "  eupsforge_distrib    generic    master-g67d36cbb01\r\n",
      "  eupsforge_distrib    generic    master-g67d36cbb01+1\r\n",
      "  eupsforge_distrib    generic    master-g67d36cbb01+2\r\n",
      "  eupsforge_distrib    generic    master-g704909cfe0\r\n",
      "  eupsforge_distrib    generic    master-gb7d5b0be39\r\n",
      "  firefly              generic    master-g54a0dce6ee\r\n",
      "  firefly              generic    tickets.DM-2731-eups-for-firefly-g9c17782531\r\n",
      "  firefly              generic    tickets.DM-2731-eups-for-firefly-geffca691b1\r\n",
      "  git                  generic    1.8.5.2\r\n",
      "  git                  generic    2.4.0\r\n",
      "  git                  generic    2.4.0-1-g2a468e1\r\n",
      "  gradle               generic    master-g72e5c9f5d6\r\n",
      "  ipython_eups         generic    master-g143f1b5e83\r\n",
      "  ipython_eups         generic    master-g4986809330\r\n",
      "  ipython_eups         generic    master-g651380a3f7\r\n",
      "  jdk                  generic    8u40-b26\r\n",
      "  lsd                  generic    master-gc732036f69\r\n",
      "  node                 generic    master-g585d2d3511\r\n",
      "  oorb                 generic    master-g4860a33a8d\r\n",
      "  oorb                 generic    master-g9251370ab2\r\n",
      "  polygon              generic    master-g20529d1b51\r\n",
      "  scikits_ann          generic    master-gdafff029ec\r\n",
      "  swig                 generic    3.0.2.lsst1\r\n",
      "  tomcat               generic    master-ge83256a205\r\n",
      "  vitables             generic    master-gf44a20f6f0\r\n"
     ]
    }
   ],
   "source": [
    "%eups distrib list -s http://eupsforge.net"
   ]
  },
  {
   "cell_type": "markdown",
   "metadata": {},
   "source": [
    "You can even install products from within your IPython notebook:"
   ]
  },
  {
   "cell_type": "code",
   "execution_count": 14,
   "metadata": {
    "collapsed": false
   },
   "outputs": [
    {
     "name": "stdout",
     "output_type": "stream",
     "text": [
      "  [  1/1  ]  vitables master-gf44a20f6f0 (already installed) \r",
      "  [  1/1  ]  vitables master-gf44a20f6f0 (already installed)            done. \r\n"
     ]
    }
   ],
   "source": [
    "%eups distrib install -r http://eupsforge.net vitables"
   ]
  },
  {
   "cell_type": "code",
   "execution_count": 16,
   "metadata": {
    "collapsed": false
   },
   "outputs": [
    {
     "name": "stdout",
     "output_type": "stream",
     "text": [
      "   master-gf44a20f6f0 \tb1158 b1156 b1162 b1161 b1164 current b1184 b1179 b1181 b1183 b1185 b1154\r\n"
     ]
    }
   ],
   "source": [
    "%eups list vitables"
   ]
  },
  {
   "cell_type": "markdown",
   "metadata": {},
   "source": [
    "## Internals"
   ]
  },
  {
   "cell_type": "code",
   "execution_count": 17,
   "metadata": {
    "collapsed": false
   },
   "outputs": [
    {
     "name": "stdout",
     "output_type": "stream",
     "text": [
      "/Users/mjuric/projects/eups/stack/DarwinX86/oorb/lsst-g650e0a6f6c/lib:/var/folders/fn/xlbw59n15rg8ywvrxdy9xfm00000gn/T/ipython-eups-linkfarm.XXXXX.Hss02qJ2/lib\n",
      "/var/folders/fn/xlbw59n15rg8ywvrxdy9xfm00000gn/T/ipython-eups-linkfarm.XXXXX.Hss02qJ2\n",
      "total 8\n",
      "drwx------  4 mjuric  staff  136 Jun 22 01:13 \u001b[34mipython-eups-linkfarm.27580.mvA3KF\u001b[m\u001b[m\n",
      "lrwxr-xr-x  1 mjuric  staff   34 Jun 22 01:13 \u001b[35mlib\u001b[m\u001b[m -> ipython-eups-linkfarm.27580.mvA3KF\n",
      "total 16\n",
      "lrwxr-xr-x  1 mjuric  staff  78 Jun 22 01:13 \u001b[35mMakefile\u001b[m\u001b[m -> /Users/mjuric/projects/eups/stack/DarwinX86/oorb/lsst-g650e0a6f6c/lib/Makefile\n",
      "lrwxr-xr-x  1 mjuric  staff  83 Jun 22 01:13 \u001b[35mliboorb.dylib\u001b[m\u001b[m -> /Users/mjuric/projects/eups/stack/DarwinX86/oorb/lsst-g650e0a6f6c/lib/liboorb.dylib\n"
     ]
    }
   ],
   "source": [
    "import os\n",
    "linkfarm = os.environ['IPYTHON_EUPS_LIB_LINKFARM']\n",
    "print os.environ['DYLD_LIBRARY_PATH']\n",
    "print linkfarm\n",
    "! ls -l $linkfarm\n",
    "! ls -l $linkfarm/lib/"
   ]
  }
 ],
 "metadata": {
  "kernelspec": {
   "display_name": "Python 2",
   "language": "python",
   "name": "python2"
  },
  "language_info": {
   "codemirror_mode": {
    "name": "ipython",
    "version": 2
   },
   "file_extension": ".py",
   "mimetype": "text/x-python",
   "name": "python",
   "nbconvert_exporter": "python",
   "pygments_lexer": "ipython2",
   "version": "2.7.9"
  }
 },
 "nbformat": 4,
 "nbformat_minor": 0
}
