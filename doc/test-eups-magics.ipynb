{
 "cells": [
  {
   "cell_type": "markdown",
   "metadata": {},
   "source": [
    "# IPython EUPS magics\n",
    "\n",
    "### What\n",
    "\n",
    "This IPython extension adds a new `%eups` magic that allows one to call EUPS from IPython, setup products into the current IPython notebook's environment, and setup EUPS itself.\n",
    "\n",
    "This comes in very handy when we want the Python notebook to fully capture the products (possibly down to the product version) that were used to execute it.\n",
    "\n",
    "It's also handy when in the middle of some analysis you realize you've forgotten to setup a product you need."
   ]
  },
  {
   "cell_type": "markdown",
   "metadata": {},
   "source": [
    "### What: tl;dr version"
   ]
  },
  {
   "cell_type": "code",
   "execution_count": 1,
   "metadata": {
    "collapsed": false
   },
   "outputs": [
    {
     "name": "stdout",
     "output_type": "stream",
     "text": [
      "Initializing EUPS from /Users/mjuric/.eups/default\n",
      "Using EUPS_PATH: /Users/mjuric/projects/eups/stack\n",
      "oorb                  lsst-g650e0a6f6c\n"
     ]
    },
    {
     "data": {
      "text/plain": [
       "'/Users/mjuric/projects/eups/stack/DarwinX86/oorb/lsst-g650e0a6f6c/python/pyoorb.so'"
      ]
     },
     "execution_count": 1,
     "metadata": {},
     "output_type": "execute_result"
    }
   ],
   "source": [
    "%load_ext eups_magic\n",
    "\n",
    "%eups list\n",
    "%eups setup oorb lsst-g650e0a6f6c\n",
    "\n",
    "import pyoorb\n",
    "pyoorb.__file__"
   ]
  },
  {
   "cell_type": "markdown",
   "metadata": {},
   "source": [
    "## Installing and running\n",
    "\n",
    "### From a packed script\n",
    "\n",
    "This is by far the quickest way to get started. Just download the `ipython` pass-through script and place it somewhere on your path (before the real `ipython` !):\n",
    "\n",
    "    wget http://eupsforge.net/ipython\n",
    "    cp ipython ...somewhere/on/your/path...\n",
    "\n",
    "This will ensure ipython is always started with EUPS magics support.\n",
    "\n",
    "### From EUPS package\n",
    "\n",
    "This extension is also available as an EUPS package at EUPSForge:\n",
    "\n",
    "    eups distrib install -r http://eupsforge.net ipython_eups\n",
    "    setup ipython_eups\n",
    "\n",
    "Once you've installed it, you may want to automatically load it every time you set up your EUPS environment. E.g., if you're using `loadLSST.bash` (or any of the `loadLSST.*` scripts), open it in an editor and append:\n",
    "\n",
    "    setup ipython_eups\n",
    "\n",
    "to the end.\n",
    "\n",
    "### From source\n",
    "\n",
    "The sources are on github at http://github.com/mjuric/ipython_eups. Running from source is pretty straightforward as well:\n",
    "\n",
    "    git clone http://github.com/mjuric/ipython_eups\n",
    "    setup -r ipython_eups\n",
    "\n",
    "This is a pure python extenson, so no compilation is necessary."
   ]
  },
  {
   "cell_type": "markdown",
   "metadata": {},
   "source": [
    "## Initializing EUPS"
   ]
  },
  {
   "cell_type": "markdown",
   "metadata": {},
   "source": [
    "To activate the `%eups` magic, load the `eups_magic` extension. It's best to begin your notebooks with this: "
   ]
  },
  {
   "cell_type": "code",
   "execution_count": 1,
   "metadata": {
    "collapsed": false
   },
   "outputs": [
    {
     "name": "stderr",
     "output_type": "stream",
     "text": [
      "WARNING: EUPS not initialized, and no default EUPS has been symlinked as /Users/mjuric/.eups/default. Make sure to initialize it with `%eups init <path_to_eups>'\n"
     ]
    }
   ],
   "source": [
    "%load_ext eups_magic"
   ]
  },
  {
   "cell_type": "markdown",
   "metadata": {},
   "source": [
    "The message above tells us we've forgotten to setup EUPS itself (i.e., by sourcing setups.sh script). That's fine; we can do it from the notebook itself:"
   ]
  },
  {
   "cell_type": "code",
   "execution_count": 2,
   "metadata": {
    "collapsed": false
   },
   "outputs": [
    {
     "name": "stdout",
     "output_type": "stream",
     "text": [
      "Initializing EUPS from /Users/mjuric/projects/eups\n",
      "Using EUPS_PATH: /Users/mjuric/projects/eups/stack\n",
      "To set this EUPS as default, rerun as `%eups init --set-default /Users/mjuric/projects/eups'\n"
     ]
    }
   ],
   "source": [
    "%eups init /Users/mjuric/projects/eups"
   ]
  },
  {
   "cell_type": "markdown",
   "metadata": {},
   "source": [
    "We can also tell `%eups` to remember the path to default EUPS: "
   ]
  },
  {
   "cell_type": "code",
   "execution_count": 3,
   "metadata": {
    "collapsed": false
   },
   "outputs": [
    {
     "name": "stdout",
     "output_type": "stream",
     "text": [
      "Initializing EUPS from /Users/mjuric/projects/eups\n",
      "Using EUPS_PATH: /Users/mjuric/projects/eups/stack\n",
      "Setting as default: /Users/mjuric/projects/eups symlinked to /Users/mjuric/.eups/default\n"
     ]
    }
   ],
   "source": [
    "%eups init --set-default /Users/mjuric/projects/eups"
   ]
  },
  {
   "cell_type": "markdown",
   "metadata": {},
   "source": [
    "... and now we can run `%eups init` without an argument:"
   ]
  },
  {
   "cell_type": "code",
   "execution_count": 4,
   "metadata": {
    "collapsed": false
   },
   "outputs": [
    {
     "name": "stdout",
     "output_type": "stream",
     "text": [
      "Initializing EUPS from /Users/mjuric/.eups/default\n",
      "Using EUPS_PATH: /Users/mjuric/projects/eups/stack\n"
     ]
    }
   ],
   "source": [
    "%eups init"
   ]
  },
  {
   "cell_type": "markdown",
   "metadata": {},
   "source": [
    "Also, now that we have the default set up, `%eups init` will automatically run when the extension is loaded so nothing is needed beyond `%load_ext eups_magic`."
   ]
  },
  {
   "cell_type": "markdown",
   "metadata": {},
   "source": [
    "## Basic capabilities"
   ]
  },
  {
   "cell_type": "markdown",
   "metadata": {},
   "source": [
    "The `%eups` magic lets you run any EUPS subcommand. For example, let's see which products are available:"
   ]
  },
  {
   "cell_type": "code",
   "execution_count": 5,
   "metadata": {
    "collapsed": false
   },
   "outputs": [
    {
     "name": "stdout",
     "output_type": "stream",
     "text": [
      "oorb                  lsst-g650e0a6f6c\n"
     ]
    }
   ],
   "source": [
    "%eups list"
   ]
  },
  {
   "cell_type": "markdown",
   "metadata": {},
   "source": [
    "Let's try to import a module from a package that hasn't been `setup`-ed yet:"
   ]
  },
  {
   "cell_type": "code",
   "execution_count": 6,
   "metadata": {
    "collapsed": false
   },
   "outputs": [
    {
     "ename": "ImportError",
     "evalue": "No module named pyoorb",
     "output_type": "error",
     "traceback": [
      "\u001b[0;31m---------------------------------------------------------------------------\u001b[0m",
      "\u001b[0;31mImportError\u001b[0m                               Traceback (most recent call last)",
      "\u001b[0;32m<ipython-input-6-10e6ae77b384>\u001b[0m in \u001b[0;36m<module>\u001b[0;34m()\u001b[0m\n\u001b[0;32m----> 1\u001b[0;31m \u001b[0;32mimport\u001b[0m \u001b[0mpyoorb\u001b[0m\u001b[0;34m\u001b[0m\u001b[0m\n\u001b[0m",
      "\u001b[0;31mImportError\u001b[0m: No module named pyoorb"
     ]
    }
   ],
   "source": [
    "import pyoorb"
   ]
  },
  {
   "cell_type": "markdown",
   "metadata": {},
   "source": [
    "OK, so we'll set it up first:"
   ]
  },
  {
   "cell_type": "code",
   "execution_count": 7,
   "metadata": {
    "collapsed": false
   },
   "outputs": [],
   "source": [
    "%eups setup oorb lsst-g650e0a6f6c"
   ]
  },
  {
   "cell_type": "markdown",
   "metadata": {},
   "source": [
    "Let's check if this worked:"
   ]
  },
  {
   "cell_type": "code",
   "execution_count": 8,
   "metadata": {
    "collapsed": false
   },
   "outputs": [
    {
     "name": "stdout",
     "output_type": "stream",
     "text": [
      "oorb                  lsst-g650e0a6f6c \tsetup\n"
     ]
    }
   ],
   "source": [
    "%eups list -s"
   ]
  },
  {
   "cell_type": "markdown",
   "metadata": {},
   "source": [
    "... and now we can use its modules directly from this notebook:"
   ]
  },
  {
   "cell_type": "code",
   "execution_count": 9,
   "metadata": {
    "collapsed": false
   },
   "outputs": [],
   "source": [
    "import pyoorb"
   ]
  },
  {
   "cell_type": "markdown",
   "metadata": {},
   "source": [
    "We can also unsetup a module.\n",
    "\n",
    "***Hint***: *Note however that because of how Python handles modules, this will not unload an already loaded module. Furthermore, while pure-Python modules can be reloaded with `reload()`, that is not possible for C extensions (see http://bugs.python.org/issue1144263).*\n",
    "\n",
    "Bottom line: this will not enable you to switch out a version of a module at runtime, unless the module is pure Python and you remember to call reload."
   ]
  },
  {
   "cell_type": "code",
   "execution_count": 10,
   "metadata": {
    "collapsed": false
   },
   "outputs": [
    {
     "name": "stdout",
     "output_type": "stream",
     "text": [
      "eups list: No products found\n"
     ]
    }
   ],
   "source": [
    "%eups unsetup oorb lsst-g650e0a6f6c\n",
    "%eups list -s"
   ]
  },
  {
   "cell_type": "markdown",
   "metadata": {},
   "source": [
    "## Miscellaneous"
   ]
  },
  {
   "cell_type": "markdown",
   "metadata": {},
   "source": [
    "Errors get appropriately highlighted:"
   ]
  },
  {
   "cell_type": "code",
   "execution_count": 11,
   "metadata": {
    "collapsed": false
   },
   "outputs": [
    {
     "name": "stderr",
     "output_type": "stream",
     "text": [
      "ERROR: Command 'eups foobar ' returned non-zero exit status 10\n",
      "eups foobar: Unrecognized command: foobar\n",
      "\n"
     ]
    }
   ],
   "source": [
    "%eups foobar"
   ]
  },
  {
   "cell_type": "markdown",
   "metadata": {},
   "source": [
    "We can setting up a list of products in a loop, using IPython variable expansion:"
   ]
  },
  {
   "cell_type": "code",
   "execution_count": 12,
   "metadata": {
    "collapsed": false
   },
   "outputs": [
    {
     "name": "stdout",
     "output_type": "stream",
     "text": [
      "oorb                  lsst-g650e0a6f6c \tsetup\n"
     ]
    }
   ],
   "source": [
    "products = [('oorb', 'lsst-g650e0a6f6c')]\n",
    "for product, version in products:\n",
    "    %eups setup $product $version\n",
    "%eups list -s"
   ]
  },
  {
   "cell_type": "markdown",
   "metadata": {},
   "source": [
    "All EUPS subcommands work:"
   ]
  },
  {
   "cell_type": "code",
   "execution_count": 13,
   "metadata": {
    "collapsed": false
   },
   "outputs": [
    {
     "name": "stdout",
     "output_type": "stream",
     "text": [
      "  anaconda             generic    2.1.0-lsst1\n",
      "  anaconda             generic    2.1.0-4-g35ca374\n",
      "  ann                  generic    master-g241439a636\n",
      "  eupsforge            generic    master-g9ae1b6a1f0\n",
      "  eupsforge_distrib    generic    master-g0740fbfb19\n",
      "  eupsforge_distrib    generic    master-g0740fbfb19+3\n",
      "  eupsforge_distrib    generic    master-g0740fbfb19+4\n",
      "  eupsforge_distrib    generic    master-g4bfbf8a310\n",
      "  eupsforge_distrib    generic    master-g5126290247+1\n",
      "  eupsforge_distrib    generic    master-g5126290247+3\n",
      "  eupsforge_distrib    generic    master-g67d36cbb01\n",
      "  eupsforge_distrib    generic    master-g704909cfe0\n",
      "  eupsforge_distrib    generic    master-gb7d5b0be39\n",
      "  firefly              generic    master-g54a0dce6ee\n",
      "  firefly              generic    tickets.DM-2731-eups-for-firefly-g9c17782531\n",
      "  firefly              generic    tickets.DM-2731-eups-for-firefly-geffca691b1\n",
      "  git                  generic    1.8.5.2\n",
      "  git                  generic    2.4.0\n",
      "  git                  generic    2.4.0-1-g2a468e1\n",
      "  gradle               generic    master-g72e5c9f5d6\n",
      "  ipython_eups         generic    master-g651380a3f7\n",
      "  jdk                  generic    8u40-b26\n",
      "  lsd                  generic    master-gc732036f69\n",
      "  node                 generic    master-g585d2d3511\n",
      "  oorb                 generic    master-g4860a33a8d\n",
      "  oorb                 generic    master-g9251370ab2\n",
      "  polygon              generic    master-g20529d1b51\n",
      "  scikits_ann          generic    master-gdafff029ec\n",
      "  swig                 generic    3.0.2.lsst1\n",
      "  tomcat               generic    master-ge83256a205\n",
      "  vitables             generic    master-gf44a20f6f0\n"
     ]
    }
   ],
   "source": [
    "%eups distrib list -s http://eupsforge.net"
   ]
  },
  {
   "cell_type": "markdown",
   "metadata": {},
   "source": [
    "## Internals"
   ]
  },
  {
   "cell_type": "code",
   "execution_count": 14,
   "metadata": {
    "collapsed": false
   },
   "outputs": [
    {
     "name": "stdout",
     "output_type": "stream",
     "text": [
      "/Users/mjuric/projects/eups/stack/DarwinX86/oorb/lsst-g650e0a6f6c/lib:/var/folders/fn/xlbw59n15rg8ywvrxdy9xfm00000gn/T/ipython-eups-linkfarm.XXXXX.HliWLSPS/lib\n",
      "/var/folders/fn/xlbw59n15rg8ywvrxdy9xfm00000gn/T/ipython-eups-linkfarm.XXXXX.HliWLSPS\n",
      "total 8\n",
      "drwx------  4 mjuric  staff  136 Jun 20 02:15 \u001b[34mipython-eups-linkfarm.17250.ClI3YJ\u001b[m\u001b[m\n",
      "lrwxr-xr-x  1 mjuric  staff   34 Jun 20 02:15 \u001b[35mlib\u001b[m\u001b[m -> ipython-eups-linkfarm.17250.ClI3YJ\n",
      "drwxr-xr-x  4 mjuric  staff  136 Jun 20 02:12 \u001b[34mpython\u001b[m\u001b[m\n",
      "total 16\n",
      "lrwxr-xr-x  1 mjuric  staff  78 Jun 20 02:15 \u001b[35mMakefile\u001b[m\u001b[m -> /Users/mjuric/projects/eups/stack/DarwinX86/oorb/lsst-g650e0a6f6c/lib/Makefile\n",
      "lrwxr-xr-x  1 mjuric  staff  83 Jun 20 02:15 \u001b[35mliboorb.dylib\u001b[m\u001b[m -> /Users/mjuric/projects/eups/stack/DarwinX86/oorb/lsst-g650e0a6f6c/lib/liboorb.dylib\n"
     ]
    }
   ],
   "source": [
    "import os\n",
    "linkfarm = os.environ['IPYTHON_EUPS_LIB_LINKFARM']\n",
    "print os.environ['DYLD_LIBRARY_PATH']\n",
    "print linkfarm\n",
    "! ls -l $linkfarm\n",
    "! ls -l $linkfarm/lib/"
   ]
  }
 ],
 "metadata": {
  "kernelspec": {
   "display_name": "Python 2",
   "language": "python",
   "name": "python2"
  },
  "language_info": {
   "codemirror_mode": {
    "name": "ipython",
    "version": 2
   },
   "file_extension": ".py",
   "mimetype": "text/x-python",
   "name": "python",
   "nbconvert_exporter": "python",
   "pygments_lexer": "ipython2",
   "version": "2.7.9"
  }
 },
 "nbformat": 4,
 "nbformat_minor": 0
}
